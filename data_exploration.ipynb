{
 "cells": [
  {
   "cell_type": "code",
   "execution_count": 1,
   "metadata": {},
   "outputs": [],
   "source": [
    "import numpy as np\n",
    "import requests\n",
    "import json\n",
    "from tqdm import tqdm\n",
    "from io import BytesIO\n",
    "from PIL import Image\n",
    "import os\n",
    "\n"
   ]
  },
  {
   "cell_type": "code",
   "execution_count": 2,
   "metadata": {},
   "outputs": [],
   "source": [
    "save_dir = 'ChartFC/'\n",
    "\n",
    "# Create the directory if it doesn't exist\n",
    "if not os.path.exists(save_dir):\n",
    "    os.makedirs(save_dir)"
   ]
  },
  {
   "cell_type": "code",
   "execution_count": 3,
   "metadata": {},
   "outputs": [],
   "source": [
    "with open('claim_explanation_verification_pre_tasksets.json') as f:\n",
    "    data = json.load(f)"
   ]
  },
  {
   "cell_type": "code",
   "execution_count": 4,
   "metadata": {},
   "outputs": [],
   "source": [
    "files = set(os.listdir(save_dir))"
   ]
  },
  {
   "cell_type": "code",
   "execution_count": 5,
   "metadata": {},
   "outputs": [
    {
     "data": {
      "text/plain": [
       "1626"
      ]
     },
     "execution_count": 5,
     "metadata": {},
     "output_type": "execute_result"
    }
   ],
   "source": [
    "len(files)"
   ]
  },
  {
   "cell_type": "code",
   "execution_count": 6,
   "metadata": {},
   "outputs": [
    {
     "name": "stderr",
     "output_type": "stream",
     "text": [
      "100%|██████████| 9300/9300 [02:31<00:00, 61.27it/s] \n"
     ]
    }
   ],
   "source": [
    "success = 0\n",
    "fail = 0\n",
    "failed_urls = set()\n",
    "for example in tqdm(data):\n",
    "    url = example[\"chart_img\"]\n",
    "    filename= os.path.basename(url)\n",
    "    if filename not in files:\n",
    "        response = requests.get(url)\n",
    "        # Extract the filename from the URL\n",
    "        filename = os.path.join(save_dir, filename)\n",
    "        if response.status_code != 200:\n",
    "            failed_urls.add(url)\n",
    "            fail += 1\n",
    "        else:\n",
    "            success += 1\n",
    "            with open(filename, 'wb') as f:\n",
    "                f.write(response.content)\n",
    "    else:\n",
    "        success += 1"
   ]
  },
  {
   "cell_type": "code",
   "execution_count": 7,
   "metadata": {},
   "outputs": [
    {
     "name": "stdout",
     "output_type": "stream",
     "text": [
      "Success:  9300\n",
      "Fail:  0\n",
      "Percentage Success:  1.0\n"
     ]
    }
   ],
   "source": [
    "print(\"Success: \", success)\n",
    "print(\"Fail: \", fail)\n",
    "print(\"Percentage Success: \", success/(success+fail))"
   ]
  },
  {
   "cell_type": "code",
   "execution_count": 73,
   "metadata": {},
   "outputs": [],
   "source": [
    "images = os.listdir(save_dir)"
   ]
  },
  {
   "cell_type": "code",
   "execution_count": 74,
   "metadata": {},
   "outputs": [],
   "source": [
    "np.random.seed(40)\n",
    "test_charts = np.random.choice(images, int(0.045 * len(images)), replace=False)"
   ]
  },
  {
   "cell_type": "code",
   "execution_count": 75,
   "metadata": {},
   "outputs": [],
   "source": [
    "remaining_images = set(files) - set(test_charts)"
   ]
  },
  {
   "cell_type": "code",
   "execution_count": 76,
   "metadata": {},
   "outputs": [
    {
     "data": {
      "text/plain": [
       "9300"
      ]
     },
     "execution_count": 76,
     "metadata": {},
     "output_type": "execute_result"
    }
   ],
   "source": [
    "len(data)"
   ]
  },
  {
   "cell_type": "code",
   "execution_count": 77,
   "metadata": {},
   "outputs": [],
   "source": [
    "remaining_claims = [item for item in data if os.path.basename(item[\"chart_img\"]) in remaining_images]"
   ]
  },
  {
   "cell_type": "code",
   "execution_count": 78,
   "metadata": {},
   "outputs": [],
   "source": [
    "second_alpha_claim = [item for item in data if os.path.basename(item[\"chart_img\"]) in test_charts]"
   ]
  },
  {
   "cell_type": "code",
   "execution_count": 79,
   "metadata": {},
   "outputs": [
    {
     "data": {
      "text/plain": [
       "8016"
      ]
     },
     "execution_count": 79,
     "metadata": {},
     "output_type": "execute_result"
    }
   ],
   "source": [
    "len(remaining_claims)"
   ]
  },
  {
   "cell_type": "code",
   "execution_count": 80,
   "metadata": {},
   "outputs": [
    {
     "data": {
      "text/plain": [
       "422"
      ]
     },
     "execution_count": 80,
     "metadata": {},
     "output_type": "execute_result"
    }
   ],
   "source": [
    "len(second_alpha_claim)"
   ]
  },
  {
   "cell_type": "code",
   "execution_count": 81,
   "metadata": {},
   "outputs": [],
   "source": [
    "remaining_claims = np.array(remaining_claims)"
   ]
  },
  {
   "cell_type": "code",
   "execution_count": 82,
   "metadata": {},
   "outputs": [],
   "source": [
    "np.random.seed(42)\n",
    "\n",
    "# Shuffle the indices of the data\n",
    "indices = np.random.permutation(len(remaining_claims))\n",
    "\n",
    "# Calculate the number of samples in the training, validation, and testing sets\n",
    "num_train = int(0.8 * len(remaining_claims))\n",
    "num_val = int(0.1 * len(remaining_claims))\n",
    "\n",
    "# Split the indices into training, validation, and testing sets\n",
    "train_indices = indices[:num_train]\n",
    "val_indices = indices[num_train:num_train+num_val]\n",
    "test_indices = indices[num_train+num_val:]\n",
    "\n",
    "train_data = remaining_claims[train_indices]\n",
    "val_data = remaining_claims[val_indices]\n",
    "test_data = remaining_claims[test_indices]"
   ]
  },
  {
   "cell_type": "code",
   "execution_count": 83,
   "metadata": {},
   "outputs": [
    {
     "data": {
      "text/plain": [
       "6412"
      ]
     },
     "execution_count": 83,
     "metadata": {},
     "output_type": "execute_result"
    }
   ],
   "source": [
    "len(train_data)"
   ]
  },
  {
   "cell_type": "code",
   "execution_count": 84,
   "metadata": {},
   "outputs": [
    {
     "data": {
      "text/plain": [
       "801"
      ]
     },
     "execution_count": 84,
     "metadata": {},
     "output_type": "execute_result"
    }
   ],
   "source": [
    "len(val_data)"
   ]
  },
  {
   "cell_type": "code",
   "execution_count": 85,
   "metadata": {},
   "outputs": [
    {
     "data": {
      "text/plain": [
       "803"
      ]
     },
     "execution_count": 85,
     "metadata": {},
     "output_type": "execute_result"
    }
   ],
   "source": [
    "len(test_data)"
   ]
  },
  {
   "cell_type": "code",
   "execution_count": 87,
   "metadata": {},
   "outputs": [],
   "source": [
    "os.mkdir(\"ChartFC/train\")\n",
    "os.mkdir(\"ChartFC/val\")\n",
    "os.mkdir(\"ChartFC/test\")"
   ]
  },
  {
   "cell_type": "code",
   "execution_count": 89,
   "metadata": {},
   "outputs": [],
   "source": [
    "with open(\"ChartFC/train/train.json\", \"w\") as f:\n",
    "    json.dump(train_data.tolist(), f)\n",
    "with open(\"ChartFC/val/val.json\", \"w\") as f:\n",
    "    json.dump(val_data.tolist(), f)\n",
    "with open(\"ChartFC/test/test.json\", \"w\") as f:\n",
    "    json.dump(test_data.tolist(), f)\n",
    "with open(\"ChartFC/test/test_unseen.json\", \"w\") as f:\n",
    "    json.dump(second_alpha_claim, f)"
   ]
  },
  {
   "cell_type": "code",
   "execution_count": null,
   "metadata": {},
   "outputs": [],
   "source": []
  }
 ],
 "metadata": {
  "kernelspec": {
   "display_name": "Python 3",
   "language": "python",
   "name": "python3"
  },
  "language_info": {
   "codemirror_mode": {
    "name": "ipython",
    "version": 3
   },
   "file_extension": ".py",
   "mimetype": "text/x-python",
   "name": "python",
   "nbconvert_exporter": "python",
   "pygments_lexer": "ipython3",
   "version": "3.10.11"
  },
  "orig_nbformat": 4
 },
 "nbformat": 4,
 "nbformat_minor": 2
}
